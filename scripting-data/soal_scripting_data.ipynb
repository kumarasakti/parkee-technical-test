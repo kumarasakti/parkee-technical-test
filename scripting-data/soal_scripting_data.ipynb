{
  "nbformat": 4,
  "nbformat_minor": 0,
  "metadata": {
    "colab": {
      "provenance": []
    },
    "kernelspec": {
      "name": "python3",
      "display_name": "Python 3"
    },
    "language_info": {
      "name": "python"
    }
  },
  "cells": [
    {
      "cell_type": "code",
      "execution_count": 8,
      "metadata": {
        "colab": {
          "base_uri": "https://localhost:8080/"
        },
        "id": "K9CViKh5Zlv3",
        "outputId": "8f90b5e2-c4bd-47ea-c846-f71b0c0edc1e"
      },
      "outputs": [
        {
          "output_type": "stream",
          "name": "stdout",
          "text": [
            "Branch A Raw data\n",
            "   transaction_id branch        date  product_id  quantity  price customer_id\n",
            "0               1      A  2023-01-01         101         2   50.0        C001\n",
            "1               2      A  2023-01-02         102         1   20.0        C002\n",
            "2               3      A  2023-01-03         103         3   15.0        C003\n",
            "3               4      A  2023-01-04         101         2   50.0        C004\n",
            "4               5      A         NaN         104         1   30.0        C005\n",
            "5               6      A  2023-01-06         105         2   25.0         NaN\n",
            "Branch B Raw data\n",
            "   transaction_id branch        date  product_id  quantity  price customer_id\n",
            "0               7      B  2023-01-01         101         1   50.0        C006\n",
            "1               8      B  2023-01-02         106         2   40.0        C007\n",
            "2               9      B  2023-01-03         107         3   25.0        C008\n",
            "3              10      B  2023-01-04         108         1   30.0        C009\n",
            "4              11      B  2023-01-05         109         2   35.0        C010\n",
            "5              12      B  2023-01-06         107         3   25.0        C011\n",
            "Branch C Raw data\n",
            "   transaction_id branch        date  product_id  quantity  price customer_id\n",
            "0              13      C  2023-01-01         110         1   60.0        C012\n",
            "1              14      C  2023-01-02         111         2   20.0        C013\n",
            "2              14      C  2023-01-03         112         1   70.0        C014\n",
            "3              15      C  2023-01-04         113         2   50.0        C015\n",
            "4              16      C  2023-01-05         114         3   30.0        C016\n",
            "5              17      C  2023-01-06         115         2   80.0        C017\n",
            "Combining CSV files...\n",
            "Combined data shape: (18, 7)\n",
            "\n",
            "Cleaning data...\n",
            "Cleaned data shape: (15, 7)\n",
            "\n",
            "Calculating total sales...\n",
            "\n",
            "Total sales per branch:\n",
            "  branch  total\n",
            "0      A  265.0\n",
            "1      B  380.0\n",
            "2      C  480.0\n"
          ]
        }
      ],
      "source": [
        "import pandas as pd\n",
        "import numpy as np\n",
        "from datetime import datetime\n",
        "\n",
        "def combine_branch_data(file_paths):\n",
        "    dataframes = []\n",
        "    for file in file_paths:\n",
        "        df = pd.read_csv(file)\n",
        "        dataframes.append(df)\n",
        "    return pd.concat(dataframes, ignore_index=True)\n",
        "\n",
        "def clean_data(df):\n",
        "    df_cleaned = df.copy()\n",
        "\n",
        "    df_cleaned = df_cleaned.dropna(subset=['transaction_id', 'date', 'customer_id'])\n",
        "\n",
        "    df_cleaned.loc[:, 'date'] = pd.to_datetime(df_cleaned['date'])\n",
        "\n",
        "    df_cleaned = df_cleaned.sort_values('date', ascending=False)\n",
        "    df_cleaned = df_cleaned.drop_duplicates(subset='transaction_id', keep='first')\n",
        "\n",
        "    return df_cleaned\n",
        "\n",
        "def calculate_total_sales(df):\n",
        "    df = df.copy()\n",
        "\n",
        "    df.loc[:, 'total_sale'] = df['price'] * df['quantity']\n",
        "\n",
        "    total_sales = df.groupby('branch')['total_sale'].sum().reset_index()\n",
        "    total_sales.columns = ['branch', 'total']\n",
        "\n",
        "    return total_sales\n",
        "\n",
        "def main():\n",
        "    file_paths = ['/content/branch_a.csv', '/content/branch_b.csv', '/content/branch_c.csv']\n",
        "\n",
        "    print(\"Branch A Raw data\")\n",
        "    print(df_branch_a)\n",
        "    print(\"Branch B Raw data\")\n",
        "    print(df_branch_b)\n",
        "    print(\"Branch C Raw data\")\n",
        "    print(df_branch_c)\n",
        "\n",
        "    try:\n",
        "        print(\"Combining CSV files...\")\n",
        "        combined_df = combine_branch_data(file_paths)\n",
        "        print(f\"Combined data shape: {combined_df.shape}\")\n",
        "\n",
        "        print(\"\\nCleaning data...\")\n",
        "        cleaned_df = clean_data(combined_df)\n",
        "        print(f\"Cleaned data shape: {cleaned_df.shape}\")\n",
        "\n",
        "        print(\"\\nCalculating total sales...\")\n",
        "        total_sales_df = calculate_total_sales(cleaned_df)\n",
        "\n",
        "        print(\"\\nTotal sales per branch:\")\n",
        "        print(total_sales_df)\n",
        "\n",
        "    except Exception as e:\n",
        "        print(f\"An error occurred: {str(e)}\")\n",
        "\n",
        "if __name__ == \"__main__\":\n",
        "    main()\n"
      ]
    }
  ]
}